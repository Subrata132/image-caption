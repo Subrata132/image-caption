{
 "cells": [
  {
   "cell_type": "code",
   "execution_count": 1,
   "id": "70ffd6e5",
   "metadata": {},
   "outputs": [],
   "source": [
    "import torch\n",
    "import numpy as np\n",
    "import torch.nn as nn\n",
    "import torch.nn.functional as F\n",
    "import torch.optim as optim\n",
    "import torchvision.models as models\n",
    "from torch.utils.data import DataLoader,Dataset\n",
    "import torchvision.transforms as T"
   ]
  },
  {
   "cell_type": "code",
   "execution_count": 2,
   "id": "70eff4cf",
   "metadata": {},
   "outputs": [],
   "source": [
    "resnet = models.resnet50(pretrained=True)"
   ]
  },
  {
   "cell_type": "code",
   "execution_count": 19,
   "id": "2fcf9448",
   "metadata": {},
   "outputs": [],
   "source": [
    "for params in resnet.parameters():\n",
    "    params.requires_grad_(False)\n",
    "modules = list(resnet.children())[:-2]\n",
    "resnet = nn.Sequential(*modules)"
   ]
  },
  {
   "cell_type": "code",
   "execution_count": 20,
   "id": "9da36c09",
   "metadata": {},
   "outputs": [],
   "source": [
    "x = torch.randn(4, 3, 224, 224)"
   ]
  },
  {
   "cell_type": "code",
   "execution_count": 21,
   "id": "a11aa714",
   "metadata": {},
   "outputs": [],
   "source": [
    "features = resnet(x)"
   ]
  },
  {
   "cell_type": "code",
   "execution_count": 22,
   "id": "d816276a",
   "metadata": {},
   "outputs": [
    {
     "data": {
      "text/plain": [
       "torch.Size([4, 2048, 7, 7])"
      ]
     },
     "execution_count": 22,
     "metadata": {},
     "output_type": "execute_result"
    }
   ],
   "source": [
    "features.shape"
   ]
  },
  {
   "cell_type": "code",
   "execution_count": 24,
   "id": "c315e309",
   "metadata": {},
   "outputs": [
    {
     "data": {
      "text/plain": [
       "torch.Size([4, 7, 7, 2048])"
      ]
     },
     "execution_count": 24,
     "metadata": {},
     "output_type": "execute_result"
    }
   ],
   "source": [
    "features = features.permute(0, 2, 3, 1)\n",
    "features.shape"
   ]
  },
  {
   "cell_type": "code",
   "execution_count": 25,
   "id": "75fdcb66",
   "metadata": {},
   "outputs": [
    {
     "data": {
      "text/plain": [
       "torch.Size([4, 49, 2048])"
      ]
     },
     "execution_count": 25,
     "metadata": {},
     "output_type": "execute_result"
    }
   ],
   "source": [
    "features = features.view(features.shape[0], -1, features.shape[-1])\n",
    "features.shape"
   ]
  },
  {
   "cell_type": "code",
   "execution_count": null,
   "id": "e1c983af",
   "metadata": {},
   "outputs": [],
   "source": []
  }
 ],
 "metadata": {
  "kernelspec": {
   "display_name": "Python 3 (ipykernel)",
   "language": "python",
   "name": "python3"
  },
  "language_info": {
   "codemirror_mode": {
    "name": "ipython",
    "version": 3
   },
   "file_extension": ".py",
   "mimetype": "text/x-python",
   "name": "python",
   "nbconvert_exporter": "python",
   "pygments_lexer": "ipython3",
   "version": "3.7.6"
  }
 },
 "nbformat": 4,
 "nbformat_minor": 5
}
