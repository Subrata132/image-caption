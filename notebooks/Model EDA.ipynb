{
 "cells": [
  {
   "cell_type": "code",
   "execution_count": 1,
   "id": "70ffd6e5",
   "metadata": {},
   "outputs": [],
   "source": [
    "import torch\n",
    "import numpy as np\n",
    "import torch.nn as nn\n",
    "import torch.nn.functional as F\n",
    "import torch.optim as optim\n",
    "import torchvision.models as models\n",
    "from torch.utils.data import DataLoader,Dataset\n",
    "import torchvision.transforms as T"
   ]
  },
  {
   "cell_type": "code",
   "execution_count": 2,
   "id": "70eff4cf",
   "metadata": {},
   "outputs": [],
   "source": [
    "resnet = models.resnet50(pretrained=True)"
   ]
  },
  {
   "cell_type": "code",
   "execution_count": 3,
   "id": "2fcf9448",
   "metadata": {},
   "outputs": [],
   "source": [
    "for params in resnet.parameters():\n",
    "    params.requires_grad_(False)\n",
    "modules = list(resnet.children())[:-2]\n",
    "resnet = nn.Sequential(*modules)"
   ]
  },
  {
   "cell_type": "code",
   "execution_count": 4,
   "id": "9da36c09",
   "metadata": {},
   "outputs": [],
   "source": [
    "x = torch.randn(4, 3, 224, 224)"
   ]
  },
  {
   "cell_type": "code",
   "execution_count": 5,
   "id": "a11aa714",
   "metadata": {},
   "outputs": [],
   "source": [
    "features = resnet(x)"
   ]
  },
  {
   "cell_type": "code",
   "execution_count": 6,
   "id": "d816276a",
   "metadata": {},
   "outputs": [
    {
     "data": {
      "text/plain": [
       "torch.Size([4, 2048, 7, 7])"
      ]
     },
     "execution_count": 6,
     "metadata": {},
     "output_type": "execute_result"
    }
   ],
   "source": [
    "features.shape"
   ]
  },
  {
   "cell_type": "code",
   "execution_count": 7,
   "id": "c315e309",
   "metadata": {},
   "outputs": [
    {
     "data": {
      "text/plain": [
       "torch.Size([4, 7, 7, 2048])"
      ]
     },
     "execution_count": 7,
     "metadata": {},
     "output_type": "execute_result"
    }
   ],
   "source": [
    "features = features.permute(0, 2, 3, 1)\n",
    "features.shape"
   ]
  },
  {
   "cell_type": "code",
   "execution_count": 8,
   "id": "75fdcb66",
   "metadata": {},
   "outputs": [
    {
     "data": {
      "text/plain": [
       "torch.Size([4, 49, 2048])"
      ]
     },
     "execution_count": 8,
     "metadata": {},
     "output_type": "execute_result"
    }
   ],
   "source": [
    "features = features.view(features.shape[0], -1, features.shape[-1])\n",
    "features.shape"
   ]
  },
  {
   "cell_type": "code",
   "execution_count": 23,
   "id": "bafada33",
   "metadata": {},
   "outputs": [
    {
     "data": {
      "text/plain": [
       "torch.Size([4, 49, 256])"
      ]
     },
     "execution_count": 23,
     "metadata": {},
     "output_type": "execute_result"
    }
   ],
   "source": [
    "U = nn.Linear(2048,256)\n",
    "u_hs = U(features)\n",
    "u_hs.shape"
   ]
  },
  {
   "cell_type": "code",
   "execution_count": 18,
   "id": "2b7ef5d5",
   "metadata": {},
   "outputs": [],
   "source": [
    "feature_mean = features.mean(dim=1)"
   ]
  },
  {
   "cell_type": "code",
   "execution_count": 19,
   "id": "2d171066",
   "metadata": {},
   "outputs": [],
   "source": [
    "linear = nn.Linear(2048, 512)"
   ]
  },
  {
   "cell_type": "code",
   "execution_count": 20,
   "id": "5b3b5565",
   "metadata": {},
   "outputs": [
    {
     "data": {
      "text/plain": [
       "torch.Size([4, 512])"
      ]
     },
     "execution_count": 20,
     "metadata": {},
     "output_type": "execute_result"
    }
   ],
   "source": [
    "h = linear(feature_mean)\n",
    "h.shape"
   ]
  },
  {
   "cell_type": "code",
   "execution_count": 25,
   "id": "678ee5f0",
   "metadata": {},
   "outputs": [
    {
     "data": {
      "text/plain": [
       "torch.Size([4, 256])"
      ]
     },
     "execution_count": 25,
     "metadata": {},
     "output_type": "execute_result"
    }
   ],
   "source": [
    "W = nn.Linear(512,256)\n",
    "w_ah = W(h)\n",
    "w_ah.shape"
   ]
  },
  {
   "cell_type": "code",
   "execution_count": 26,
   "id": "355ece46",
   "metadata": {},
   "outputs": [
    {
     "data": {
      "text/plain": [
       "torch.Size([4, 1, 256])"
      ]
     },
     "execution_count": 26,
     "metadata": {},
     "output_type": "execute_result"
    }
   ],
   "source": [
    "w_ah.unsqueeze(1).shape"
   ]
  },
  {
   "cell_type": "code",
   "execution_count": 27,
   "id": "91ac2b70",
   "metadata": {},
   "outputs": [
    {
     "data": {
      "text/plain": [
       "torch.Size([4, 49, 256])"
      ]
     },
     "execution_count": 27,
     "metadata": {},
     "output_type": "execute_result"
    }
   ],
   "source": [
    "combined_states = torch.tanh(u_hs + w_ah.unsqueeze(1))\n",
    "combined_states.shape"
   ]
  },
  {
   "cell_type": "code",
   "execution_count": 29,
   "id": "1ff75ad9",
   "metadata": {},
   "outputs": [
    {
     "data": {
      "text/plain": [
       "torch.Size([4, 49, 1])"
      ]
     },
     "execution_count": 29,
     "metadata": {},
     "output_type": "execute_result"
    }
   ],
   "source": [
    "A = nn.Linear(256,1)\n",
    "attention_scores = A(combined_states)\n",
    "attention_scores.shape"
   ]
  },
  {
   "cell_type": "code",
   "execution_count": 30,
   "id": "598e019c",
   "metadata": {},
   "outputs": [
    {
     "data": {
      "text/plain": [
       "torch.Size([4, 49])"
      ]
     },
     "execution_count": 30,
     "metadata": {},
     "output_type": "execute_result"
    }
   ],
   "source": [
    "attention_scores = attention_scores.squeeze(2) \n",
    "attention_scores.shape"
   ]
  },
  {
   "cell_type": "code",
   "execution_count": 31,
   "id": "f7c7dc6c",
   "metadata": {},
   "outputs": [
    {
     "data": {
      "text/plain": [
       "torch.Size([4, 49])"
      ]
     },
     "execution_count": 31,
     "metadata": {},
     "output_type": "execute_result"
    }
   ],
   "source": [
    "alpha = F.softmax(attention_scores,dim=1)\n",
    "alpha.shape"
   ]
  },
  {
   "cell_type": "code",
   "execution_count": 32,
   "id": "f9749359",
   "metadata": {},
   "outputs": [
    {
     "data": {
      "text/plain": [
       "torch.Size([4, 49, 1])"
      ]
     },
     "execution_count": 32,
     "metadata": {},
     "output_type": "execute_result"
    }
   ],
   "source": [
    "alpha.unsqueeze(2).shape"
   ]
  },
  {
   "cell_type": "code",
   "execution_count": 33,
   "id": "3f0b3254",
   "metadata": {},
   "outputs": [
    {
     "data": {
      "text/plain": [
       "torch.Size([4, 49, 2048])"
      ]
     },
     "execution_count": 33,
     "metadata": {},
     "output_type": "execute_result"
    }
   ],
   "source": [
    "attention_weights = features * alpha.unsqueeze(2)\n",
    "attention_weights.shape"
   ]
  },
  {
   "cell_type": "code",
   "execution_count": 34,
   "id": "46f48b7e",
   "metadata": {},
   "outputs": [
    {
     "data": {
      "text/plain": [
       "torch.Size([4, 2048])"
      ]
     },
     "execution_count": 34,
     "metadata": {},
     "output_type": "execute_result"
    }
   ],
   "source": [
    "attention_weights = attention_weights.sum(dim=1)\n",
    "attention_weights.shape"
   ]
  },
  {
   "cell_type": "code",
   "execution_count": 35,
   "id": "dd067664",
   "metadata": {},
   "outputs": [],
   "source": [
    "input_ = torch.LongTensor([[1,2,4,5, 6],[4,3,2,9, 0], [1,2,4,5, 6],[4,3,2,9, 0]])\n",
    "embedding = nn.Embedding(10, 3)\n",
    "embed_out = embedding(input_)"
   ]
  },
  {
   "cell_type": "code",
   "execution_count": 36,
   "id": "49968531",
   "metadata": {},
   "outputs": [
    {
     "data": {
      "text/plain": [
       "torch.Size([4, 5, 3])"
      ]
     },
     "execution_count": 36,
     "metadata": {},
     "output_type": "execute_result"
    }
   ],
   "source": [
    "embed_out.shape"
   ]
  },
  {
   "cell_type": "code",
   "execution_count": 38,
   "id": "50e2b048",
   "metadata": {},
   "outputs": [
    {
     "data": {
      "text/plain": [
       "torch.Size([4, 3])"
      ]
     },
     "execution_count": 38,
     "metadata": {},
     "output_type": "execute_result"
    }
   ],
   "source": [
    "embed_out[:, 0].shape"
   ]
  },
  {
   "cell_type": "code",
   "execution_count": 41,
   "id": "3dfacdda",
   "metadata": {},
   "outputs": [
    {
     "data": {
      "text/plain": [
       "torch.Size([4, 2051])"
      ]
     },
     "execution_count": 41,
     "metadata": {},
     "output_type": "execute_result"
    }
   ],
   "source": [
    "lstm_input = torch.cat((embed_out[:, 0], attention_weights), dim=1)\n",
    "lstm_input.shape"
   ]
  },
  {
   "cell_type": "code",
   "execution_count": null,
   "id": "3b2f0da0",
   "metadata": {},
   "outputs": [],
   "source": [
    "\n",
    "input_feature = torch.randn(2, 3, 10)\n"
   ]
  },
  {
   "cell_type": "code",
   "execution_count": 40,
   "id": "e1c983af",
   "metadata": {},
   "outputs": [],
   "source": [
    "lstm_cell = nn.LSTMCell(2051, 512, bias=True)"
   ]
  },
  {
   "cell_type": "code",
   "execution_count": 42,
   "id": "b261987e",
   "metadata": {},
   "outputs": [
    {
     "name": "stdout",
     "output_type": "stream",
     "text": [
      "torch.Size([4, 512]) torch.Size([4, 512])\n"
     ]
    }
   ],
   "source": [
    "h_, c_ = lstm_cell(lstm_input, (h, h))\n",
    "print(h_.shape, c_.shape)"
   ]
  },
  {
   "cell_type": "code",
   "execution_count": 45,
   "id": "f8784ac8",
   "metadata": {},
   "outputs": [
    {
     "name": "stdout",
     "output_type": "stream",
     "text": [
      "tensor([[ 0.0841,  0.8472],\n",
      "        [-2.1221,  0.2664]])\n"
     ]
    },
    {
     "data": {
      "text/plain": [
       "tensor([[0.1052, 1.0589],\n",
       "        [-0.0000, 0.3330]])"
      ]
     },
     "execution_count": 45,
     "metadata": {},
     "output_type": "execute_result"
    }
   ],
   "source": [
    "m = nn.Dropout(p=0.2)\n",
    "dtgr = torch.randn(2, 2)\n",
    "print(dtgr)\n",
    "output = m(dtgr)\n",
    "output"
   ]
  },
  {
   "cell_type": "code",
   "execution_count": null,
   "id": "61d56a31",
   "metadata": {},
   "outputs": [],
   "source": [
    "fcn = nn.Linear(decoder_dim,vocab_size)"
   ]
  }
 ],
 "metadata": {
  "kernelspec": {
   "display_name": "Python 3 (ipykernel)",
   "language": "python",
   "name": "python3"
  },
  "language_info": {
   "codemirror_mode": {
    "name": "ipython",
    "version": 3
   },
   "file_extension": ".py",
   "mimetype": "text/x-python",
   "name": "python",
   "nbconvert_exporter": "python",
   "pygments_lexer": "ipython3",
   "version": "3.7.12"
  }
 },
 "nbformat": 4,
 "nbformat_minor": 5
}
