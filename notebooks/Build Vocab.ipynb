{
 "cells": [
  {
   "cell_type": "code",
   "execution_count": 1,
   "id": "65980105",
   "metadata": {},
   "outputs": [],
   "source": [
    "import numpy as np\n",
    "import pandas as pd\n",
    "import spacy\n",
    "from collections import Counter\n",
    "from PIL import Image\n",
    "import torch\n",
    "from torch.nn.utils.rnn import pad_sequence\n",
    "from torch.utils.data import DataLoader,Dataset\n",
    "import torchvision.transforms as T"
   ]
  },
  {
   "cell_type": "code",
   "execution_count": 2,
   "id": "ed998e9d",
   "metadata": {},
   "outputs": [],
   "source": [
    "class Vocabulary:\n",
    "    def __init__(self, threshold=5):\n",
    "        self.itos = {0:\"<PAD>\",1:\"<SOS>\",2:\"<EOS>\",3:\"<UNK>\"}\n",
    "        self.stoi = {v:k for k,v in self.itos.items()}\n",
    "        self.freq_threshold = threshold\n",
    "        self.spacy_eng = spacy.load(\"en_core_web_lg\")\n",
    "        \n",
    "    def __len__(self):\n",
    "        return len(self.itos)\n",
    "    \n",
    "    def tokenize(self, text):\n",
    "        tokenized_text = self.spacy_eng.tokenizer(text)\n",
    "        tokeinzed_text_lower = []\n",
    "        for token in tokenized_text:\n",
    "            tokeinzed_text_lower.append(token.text.lower())\n",
    "        return tokeinzed_text_lower\n",
    "    \n",
    "    def build_vocab(self, text_list):\n",
    "        frequencies = Counter()\n",
    "        idx = 4\n",
    "        for text in text_list:\n",
    "            tokenized_text = self.tokenize(text)\n",
    "            for word in tokenized_text:\n",
    "                frequencies[word] +=1\n",
    "                if frequencies[word] == self.freq_threshold :\n",
    "                    self.stoi[word] = idx\n",
    "                    self.itos[idx] = word\n",
    "                    idx += 1\n",
    "    \n",
    "    def string_to_numerical(self, text):\n",
    "        tokenized_text = self.tokenize(text)\n",
    "        numeric_list = []\n",
    "        for token in tokenized_text:\n",
    "            if token in self.stoi:\n",
    "                numeric_list.append(self.stoi[token])\n",
    "            else:\n",
    "                numeric_list.append(self.stoi['<UNK>'])\n",
    "        return numeric_list"
   ]
  },
  {
   "cell_type": "code",
   "execution_count": 16,
   "id": "abd20bcb",
   "metadata": {},
   "outputs": [],
   "source": [
    "class Collator:\n",
    "    def __init__(self, pad_idx, batch_first=False):\n",
    "        self.pad_idx = pad_idx\n",
    "        self.batch_first = batch_first\n",
    "        \n",
    "    def __call__(self, batch):\n",
    "        imgs = []\n",
    "        targets = []\n",
    "        for item in batch:\n",
    "            image = item[0]\n",
    "            targets.append(item[1])\n",
    "            imgs.append(image.unsqueeze(0))\n",
    "        imgs = torch.cat(imgs, dim=0)\n",
    "        targets = pad_sequence(targets, batch_first=self.batch_first, padding_value=self.pad_idx)\n",
    "        return imgs, targets"
   ]
  },
  {
   "cell_type": "code",
   "execution_count": 12,
   "id": "e8ebbb46",
   "metadata": {},
   "outputs": [],
   "source": [
    "class LoadData:\n",
    "    def __init__(self, image_dir, caption_dir, transform=None, freq_threshold = 5):\n",
    "        self.image_dir = image_dir\n",
    "        self.caption_dir = caption_dir\n",
    "        self.caption_df = pd.read_csv(caption_dir)\n",
    "        self.image_names = self.caption_df['image']\n",
    "        self.captions = self.caption_df['caption']\n",
    "        self.vocab = Vocabulary(threshold=freq_threshold)\n",
    "        self.vocab.build_vocab(self.captions.tolist())\n",
    "        self.transform = transform\n",
    "        \n",
    "    def __len__(self):\n",
    "        return self.caption_df.shape[0]\n",
    "    \n",
    "    def __getitem__(self, idx):\n",
    "        caption = self.captions[idx]\n",
    "        img_name = self.image_names[idx]\n",
    "        img = Image.open(self.image_dir + img_name).convert(\"RGB\")\n",
    "        if self.transform:\n",
    "            img = self.transform(img)\n",
    "        caption_vector = []\n",
    "        caption_vector += [self.vocab.stoi['<SOS>']]\n",
    "        caption_vector += self.vocab.string_to_numerical(caption)\n",
    "        caption_vector += [self.vocab.stoi['<EOS>']]\n",
    "        return img, torch.tensor(caption_vector)"
   ]
  },
  {
   "cell_type": "code",
   "execution_count": 5,
   "id": "5252e757",
   "metadata": {},
   "outputs": [],
   "source": [
    "batch_size = 32\n",
    "num_worker = 0\n",
    "transform = T.Compose([\n",
    "    T.Resize(256),\n",
    "    T.RandomCrop(224),\n",
    "    T.ToTensor(),\n",
    "    T.Normalize((0.485, 0.456, 0.406), (0.229, 0.224, 0.225))\n",
    "])"
   ]
  },
  {
   "cell_type": "code",
   "execution_count": 17,
   "id": "365d5fda",
   "metadata": {},
   "outputs": [],
   "source": [
    "dataset = LoadData(\n",
    "    image_dir = '../data/Images/',\n",
    "    caption_dir = '../data/captions.txt',\n",
    "    transform = transform\n",
    ")"
   ]
  },
  {
   "cell_type": "code",
   "execution_count": 18,
   "id": "e1ef8545",
   "metadata": {},
   "outputs": [],
   "source": [
    "pad_idx = dataset.vocab.stoi['<PAD>']\n",
    "collator = Collator(\n",
    "    pad_idx=pad_idx,\n",
    "    batch_first=True\n",
    ")\n",
    "data_loader = DataLoader(\n",
    "    dataset = dataset,\n",
    "    batch_size = batch_size,\n",
    "    num_workers = num_worker,\n",
    "    shuffle = True,\n",
    "    collate_fn = collator\n",
    ")"
   ]
  }
 ],
 "metadata": {
  "kernelspec": {
   "display_name": "Python 3 (ipykernel)",
   "language": "python",
   "name": "python3"
  },
  "language_info": {
   "codemirror_mode": {
    "name": "ipython",
    "version": 3
   },
   "file_extension": ".py",
   "mimetype": "text/x-python",
   "name": "python",
   "nbconvert_exporter": "python",
   "pygments_lexer": "ipython3",
   "version": "3.7.12"
  }
 },
 "nbformat": 4,
 "nbformat_minor": 5
}
