{
 "cells": [
  {
   "cell_type": "code",
   "execution_count": 1,
   "id": "65980105",
   "metadata": {},
   "outputs": [],
   "source": [
    "import numpy as np\n",
    "import pandas as pd\n",
    "import spacy\n",
    "from collections import Counter"
   ]
  },
  {
   "cell_type": "code",
   "execution_count": 59,
   "id": "ed998e9d",
   "metadata": {},
   "outputs": [],
   "source": [
    "class Vocabolary:\n",
    "    def __init__(self, threshold=5):\n",
    "        self.itos = {0:\"<PAD>\",1:\"<SOS>\",2:\"<EOS>\",3:\"<UNK>\"}\n",
    "        self.stoi = {v:k for k,v in self.itos.items()}\n",
    "        self.freq_threshold = threshold\n",
    "        self.spacy_eng = spacy.load(\"en_core_web_lg\")\n",
    "        \n",
    "    def __len__(self):\n",
    "        return len(self.itos)\n",
    "    \n",
    "    def tokenize(self, text):\n",
    "        tokenized_text = self.spacy_eng.tokenizer(text)\n",
    "        tokeinzed_text_lower = []\n",
    "        for token in tokenized_text:\n",
    "            tokeinzed_text_lower.append(token.text.lower())\n",
    "        return tokeinzed_text_lower\n",
    "    \n",
    "    def build_vocab(self, text_list):\n",
    "        frequencies = Counter()\n",
    "        idx = 4\n",
    "        for text in text_list:\n",
    "            tokenized_text = self.tokenize(text)\n",
    "            for word in tokenized_text:\n",
    "                frequencies[word] +=1\n",
    "                if frequencies[word] == self.freq_threshold :\n",
    "                    self.stoi[word] = idx\n",
    "                    self.itos[idx] = word\n",
    "                    idx += 1\n",
    "    \n",
    "    def string_to_numerical(self, text):\n",
    "        tokenized_text = self.tokenize(text)\n",
    "        numeric_list = []\n",
    "        for token in tokenized_text:\n",
    "            if token in self.stoi:\n",
    "                numeric_list.append(self.stoi[token])\n",
    "            else:\n",
    "                numeric_list.append(self.stoi['<UNK>'])\n",
    "        return numeric_list"
   ]
  },
  {
   "cell_type": "code",
   "execution_count": null,
   "id": "e8ebbb46",
   "metadata": {},
   "outputs": [],
   "source": [
    "class LoadData:\n",
    "    "
   ]
  },
  {
   "cell_type": "code",
   "execution_count": 3,
   "id": "56bb1f16",
   "metadata": {},
   "outputs": [
    {
     "data": {
      "text/html": [
       "<div>\n",
       "<style scoped>\n",
       "    .dataframe tbody tr th:only-of-type {\n",
       "        vertical-align: middle;\n",
       "    }\n",
       "\n",
       "    .dataframe tbody tr th {\n",
       "        vertical-align: top;\n",
       "    }\n",
       "\n",
       "    .dataframe thead th {\n",
       "        text-align: right;\n",
       "    }\n",
       "</style>\n",
       "<table border=\"1\" class=\"dataframe\">\n",
       "  <thead>\n",
       "    <tr style=\"text-align: right;\">\n",
       "      <th></th>\n",
       "      <th>image</th>\n",
       "      <th>caption</th>\n",
       "    </tr>\n",
       "  </thead>\n",
       "  <tbody>\n",
       "    <tr>\n",
       "      <th>0</th>\n",
       "      <td>1000268201_693b08cb0e.jpg</td>\n",
       "      <td>A child in a pink dress is climbing up a set o...</td>\n",
       "    </tr>\n",
       "    <tr>\n",
       "      <th>1</th>\n",
       "      <td>1000268201_693b08cb0e.jpg</td>\n",
       "      <td>A girl going into a wooden building .</td>\n",
       "    </tr>\n",
       "    <tr>\n",
       "      <th>2</th>\n",
       "      <td>1000268201_693b08cb0e.jpg</td>\n",
       "      <td>A little girl climbing into a wooden playhouse .</td>\n",
       "    </tr>\n",
       "    <tr>\n",
       "      <th>3</th>\n",
       "      <td>1000268201_693b08cb0e.jpg</td>\n",
       "      <td>A little girl climbing the stairs to her playh...</td>\n",
       "    </tr>\n",
       "    <tr>\n",
       "      <th>4</th>\n",
       "      <td>1000268201_693b08cb0e.jpg</td>\n",
       "      <td>A little girl in a pink dress going into a woo...</td>\n",
       "    </tr>\n",
       "  </tbody>\n",
       "</table>\n",
       "</div>"
      ],
      "text/plain": [
       "                       image  \\\n",
       "0  1000268201_693b08cb0e.jpg   \n",
       "1  1000268201_693b08cb0e.jpg   \n",
       "2  1000268201_693b08cb0e.jpg   \n",
       "3  1000268201_693b08cb0e.jpg   \n",
       "4  1000268201_693b08cb0e.jpg   \n",
       "\n",
       "                                             caption  \n",
       "0  A child in a pink dress is climbing up a set o...  \n",
       "1              A girl going into a wooden building .  \n",
       "2   A little girl climbing into a wooden playhouse .  \n",
       "3  A little girl climbing the stairs to her playh...  \n",
       "4  A little girl in a pink dress going into a woo...  "
      ]
     },
     "execution_count": 3,
     "metadata": {},
     "output_type": "execute_result"
    }
   ],
   "source": [
    "data_df = pd.read_csv('../data/captions.txt')"
   ]
  },
  {
   "cell_type": "code",
   "execution_count": 60,
   "id": "43d3e558",
   "metadata": {},
   "outputs": [],
   "source": [
    "captions = data_df['caption'].tolist()"
   ]
  },
  {
   "cell_type": "code",
   "execution_count": 61,
   "id": "ac118184",
   "metadata": {},
   "outputs": [],
   "source": [
    "vocab_builder = Vocabolary()"
   ]
  },
  {
   "cell_type": "code",
   "execution_count": 62,
   "id": "b578e427",
   "metadata": {},
   "outputs": [],
   "source": [
    "vocab_builder.build_vocab(captions)"
   ]
  },
  {
   "cell_type": "code",
   "execution_count": 63,
   "id": "cbb371af",
   "metadata": {},
   "outputs": [
    {
     "data": {
      "text/plain": [
       "[4, 28, 8, 4, 195, 151, 17, 32, 67, 4, 353, 11, 711, 8, 24, 3, 496, 5]"
      ]
     },
     "execution_count": 63,
     "metadata": {},
     "output_type": "execute_result"
    }
   ],
   "source": [
    "vocab_builder.string_to_numerical(captions[0])"
   ]
  },
  {
   "cell_type": "code",
   "execution_count": 64,
   "id": "d2d421ef",
   "metadata": {},
   "outputs": [
    {
     "data": {
      "text/plain": [
       "'A child in a pink dress is climbing up a set of stairs in an entry way .'"
      ]
     },
     "execution_count": 64,
     "metadata": {},
     "output_type": "execute_result"
    }
   ],
   "source": [
    "captions[0]"
   ]
  },
  {
   "cell_type": "code",
   "execution_count": 68,
   "id": "e17e4348",
   "metadata": {},
   "outputs": [],
   "source": [
    "import torch"
   ]
  },
  {
   "cell_type": "code",
   "execution_count": 82,
   "id": "6579e0ea",
   "metadata": {},
   "outputs": [
    {
     "name": "stdout",
     "output_type": "stream",
     "text": [
      "[[[1 2 3]\n",
      "  [4 5 6]\n",
      "  [7 8 9]]] (1, 3, 3)\n"
     ]
    }
   ],
   "source": [
    "x = np.array([[\n",
    "    [1, 2, 3],\n",
    "    [4, 5, 6],\n",
    "    [7, 8, 9]\n",
    "]])\n",
    "y = x\n",
    "print(x, x.shape)"
   ]
  },
  {
   "cell_type": "code",
   "execution_count": 83,
   "id": "2503b1a1",
   "metadata": {},
   "outputs": [
    {
     "name": "stdout",
     "output_type": "stream",
     "text": [
      "tensor([[[1, 2, 3],\n",
      "         [4, 5, 6],\n",
      "         [7, 8, 9]]], dtype=torch.int32) torch.Size([1, 3, 3])\n"
     ]
    }
   ],
   "source": [
    "x_ten = torch.tensor(x)\n",
    "y_ten = torch.tensor(y)\n",
    "print(x_ten, x_ten.shape)"
   ]
  },
  {
   "cell_type": "code",
   "execution_count": 80,
   "id": "11f5d516",
   "metadata": {},
   "outputs": [
    {
     "name": "stdout",
     "output_type": "stream",
     "text": [
      "tensor([[[[1, 2, 3],\n",
      "          [4, 5, 6],\n",
      "          [7, 8, 9]]]], dtype=torch.int32) torch.Size([1, 1, 3, 3])\n"
     ]
    }
   ],
   "source": [
    "x_ten_sq = x_ten.unsqueeze(0)\n",
    "y_ten_sq = y_ten.unsqueeze(0)\n",
    "print(x_ten_sq, x_ten_sq.shape)"
   ]
  },
  {
   "cell_type": "code",
   "execution_count": 81,
   "id": "e094a8cd",
   "metadata": {},
   "outputs": [
    {
     "name": "stdout",
     "output_type": "stream",
     "text": [
      "tensor([[[[1, 2, 3],\n",
      "          [4, 5, 6],\n",
      "          [7, 8, 9]]],\n",
      "\n",
      "\n",
      "        [[[1, 2, 3],\n",
      "          [4, 5, 6],\n",
      "          [7, 8, 9]]]], dtype=torch.int32) torch.Size([2, 1, 3, 3])\n"
     ]
    }
   ],
   "source": [
    "d_cat = torch.cat([x_ten_sq, y_ten_sq], dim=0)\n",
    "print(d_cat, d_cat.shape)"
   ]
  },
  {
   "cell_type": "code",
   "execution_count": null,
   "id": "5252e757",
   "metadata": {},
   "outputs": [],
   "source": []
  }
 ],
 "metadata": {
  "kernelspec": {
   "display_name": "Python 3 (ipykernel)",
   "language": "python",
   "name": "python3"
  },
  "language_info": {
   "codemirror_mode": {
    "name": "ipython",
    "version": 3
   },
   "file_extension": ".py",
   "mimetype": "text/x-python",
   "name": "python",
   "nbconvert_exporter": "python",
   "pygments_lexer": "ipython3",
   "version": "3.7.6"
  }
 },
 "nbformat": 4,
 "nbformat_minor": 5
}
